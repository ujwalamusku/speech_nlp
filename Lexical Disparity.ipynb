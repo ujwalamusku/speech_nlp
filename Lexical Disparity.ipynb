{
 "cells": [
  {
   "cell_type": "code",
   "execution_count": 2,
   "metadata": {},
   "outputs": [
    {
     "name": "stdout",
     "output_type": "stream",
     "text": [
      "Collecting lexical-diversity\n",
      "  Downloading https://files.pythonhosted.org/packages/fb/32/6800b1d0f65fa488a7411d77195e94ad6b7b2002040805f776c8b3fca3a2/lexical_diversity-0.1.0-py3-none-any.whl (117kB)\n",
      "Installing collected packages: lexical-diversity\n",
      "Successfully installed lexical-diversity-0.1.0\n"
     ]
    }
   ],
   "source": [
    "!pip install lexical-diversity\n",
    "!pip install tag_fixer"
   ]
  },
  {
   "cell_type": "code",
   "execution_count": 6,
   "metadata": {},
   "outputs": [],
   "source": [
    "from lexical_diversity import lex_div as ld"
   ]
  },
  {
   "cell_type": "code",
   "execution_count": 7,
   "metadata": {},
   "outputs": [],
   "source": [
    "text = \"\"\"The state was named for the Colorado River, which Spanish travelers named the Río Colorado for the ruddy silt the river carried from the mountains. The Territory of Colorado was organized on February 28, 1861, and on August 1, 1876, U.S. President Ulysses S. Grant signed Proclamation 230 admitting Colorado to the Union as the 38th state. Colorado is nicknamed the \"Centennial State\" because it became a state a century after the signing of the United States Declaration of Independence. Colorado is bordered by Wyoming to the north, Nebraska to the northeast, Kansas to the east, Oklahoma to the southeast, New Mexico to the south, Utah to the west, and touches Arizona to the southwest at the Four Corners. Colorado is noted for its vivid landscape of mountains, forests, high plains, mesas, canyons, plateaus, rivers, and desert lands. Colorado is part of the western or southwestern United States, and one of the Mountain States. Denver is the capital and most populous city of Colorado. Residents of the state are known as Coloradans, although the antiquated term \"Coloradoan\" is occasionally used.\"\"\""
   ]
  },
  {
   "cell_type": "code",
   "execution_count": 8,
   "metadata": {},
   "outputs": [
    {
     "name": "stdout",
     "output_type": "stream",
     "text": [
      "['the', 'state', 'was', 'named', 'for', 'the', 'colorado', 'river', 'which', 'spanish']\n"
     ]
    }
   ],
   "source": [
    "## tokenize\n",
    "tok = ld.tokenize(text)\n",
    "##lemmatize\n",
    "flt = ld.flemmatize(text)"
   ]
  },
  {
   "cell_type": "code",
   "execution_count": 11,
   "metadata": {},
   "outputs": [],
   "source": [
    "## Lexical diversity score\n",
    "##Simple TTR\n",
    "simple_TTR = ld.ttr(flt)\n",
    "\n",
    "##Root TTR\n",
    "root_TTR = ld.root_ttr(flt)\n",
    "\n",
    "## Log TTR \n",
    "log_TTR = ld.log_ttr(flt)\n",
    "\n",
    "## Mass TTR\n",
    "mass_TTR = ld.maas_ttr(flt)\n",
    "\n",
    "## Mean segmental TTR (MSTTR)\n",
    "ms_TTR = ld.msttr(flt)"
   ]
  },
  {
   "cell_type": "code",
   "execution_count": 28,
   "metadata": {},
   "outputs": [],
   "source": [
    "## speaker content\n",
    "speaker1 = \"\"\"We stand in line and pay expensive prescription drugs. We have to have a healthcare guarantee. If you’re sick, you’re seen it. And in America, you never go broke because of it.\"\"\"\n",
    "speaker2 = \"\"\"A lot of you have been talking tonight about these government healthcare plans that you proposed in one form or another. This is a show of hands question. And hold them up for a moment so people can see. Raise your hand if—if your government plan would provide coverage for undocumented immigrants\"\"\"\n",
    "speaker3 = \"\"\"Because our country is healthier when everybody is healthier. And remember, we’re talking about something people are getting a—given a chance to buy into. In the same way that there are undocumented immigrants in my community who pay, they pay sales taxes, they pay property taxes directly or indirectly. This is not about a handout. This is an insurance program. And we do ourselves no favor by having 11 million undocumented people in our country be unable to access healthcare.\"\"\"\n",
    "\n",
    "## List of the speakers\n",
    "speaker_list = ['speaker_1', 'speaker_2', 'speaker_3']\n",
    "\n",
    "## content list\n",
    "corpus = [speaker1 , speaker2, speaker3]"
   ]
  },
  {
   "cell_type": "code",
   "execution_count": 26,
   "metadata": {},
   "outputs": [
    {
     "data": {
      "text/html": [
       "<div>\n",
       "<style scoped>\n",
       "    .dataframe tbody tr th:only-of-type {\n",
       "        vertical-align: middle;\n",
       "    }\n",
       "\n",
       "    .dataframe tbody tr th {\n",
       "        vertical-align: top;\n",
       "    }\n",
       "\n",
       "    .dataframe thead th {\n",
       "        text-align: right;\n",
       "    }\n",
       "</style>\n",
       "<table border=\"1\" class=\"dataframe\">\n",
       "  <thead>\n",
       "    <tr style=\"text-align: right;\">\n",
       "      <th></th>\n",
       "      <th>speaker_1</th>\n",
       "      <th>speaker_2</th>\n",
       "      <th>speaker_3</th>\n",
       "    </tr>\n",
       "  </thead>\n",
       "  <tbody>\n",
       "    <tr>\n",
       "      <td>speaker_1</td>\n",
       "      <td>1.000000</td>\n",
       "      <td>0.023215</td>\n",
       "      <td>0.094680</td>\n",
       "    </tr>\n",
       "    <tr>\n",
       "      <td>speaker_2</td>\n",
       "      <td>0.023215</td>\n",
       "      <td>1.000000</td>\n",
       "      <td>0.126181</td>\n",
       "    </tr>\n",
       "    <tr>\n",
       "      <td>speaker_3</td>\n",
       "      <td>0.094680</td>\n",
       "      <td>0.126181</td>\n",
       "      <td>1.000000</td>\n",
       "    </tr>\n",
       "  </tbody>\n",
       "</table>\n",
       "</div>"
      ],
      "text/plain": [
       "           speaker_1  speaker_2  speaker_3\n",
       "speaker_1   1.000000   0.023215   0.094680\n",
       "speaker_2   0.023215   1.000000   0.126181\n",
       "speaker_3   0.094680   0.126181   1.000000"
      ]
     },
     "execution_count": 26,
     "metadata": {},
     "output_type": "execute_result"
    }
   ],
   "source": [
    "similarity = similarity_score(corpus, speaker_list)\n",
    "similarity"
   ]
  },
  {
   "cell_type": "markdown",
   "metadata": {},
   "source": [
    "## start here for our data"
   ]
  },
  {
   "cell_type": "code",
   "execution_count": 27,
   "metadata": {},
   "outputs": [],
   "source": [
    "## Define the function\n",
    "from sklearn.feature_extraction.text import TfidfVectorizer\n",
    "import pandas as pd\n",
    "\n",
    "def similarity_score(corpus, speaker_list):\n",
    "    \"\"\" Input 1: takes speaker content \n",
    "        Input 2: takes the list of speaker names \n",
    "        Output : Similarity matrix between the contents \n",
    "    \"\"\"\n",
    "    vect = TfidfVectorizer(min_df=1, stop_words=\"english\")                                                                                                                                                                                                   \n",
    "    tfidf = vect.fit_transform(corpus)                                                                                                                                                                                                                       \n",
    "    pairwise_similarity = tfidf * tfidf.T \n",
    "    similarity_matrix = pd.DataFrame(pairwise_similarity.toarray())\n",
    "    similarity_matrix.columns = speaker_list\n",
    "    similarity_matrix.index = speaker_list\n",
    "    return similarity_matrix"
   ]
  },
  {
   "cell_type": "code",
   "execution_count": 48,
   "metadata": {},
   "outputs": [],
   "source": [
    "## read the script\n",
    "import pandas as pd\n",
    "df = pd.read_excel('C:/Users/monali/Desktop/Speech to text/speech.xlsx') #for an earlier version of Excel, you may need to use the file extension of 'xls'\n",
    "\n",
    "## get unique speakers\n",
    "speaker_list = df['Speaker'].unique()\n",
    "\n",
    "## create speaker paragraphs\n",
    "speaker_list\n",
    "speaker_master_list = []\n",
    "for speaker in speaker_list:\n",
    "    df_temp = df.loc[df['Speaker'] == speaker]\n",
    "    #print(speaker)\n",
    "    temp_speaker = \"\"\"\"\"\"\n",
    "    for ind in df_temp.index:\n",
    "        subtext = df_temp['Text'][ind]\n",
    "        temp_speaker = temp_speaker +\"\"\" \"\"\" + subtext\n",
    "    #speaker_data = []\n",
    "    #speaker_data.append(speaker)\n",
    "    #speaker_data.append(temp_speaker)  \n",
    "    speaker_master_list.append(temp_speaker)"
   ]
  },
  {
   "cell_type": "code",
   "execution_count": 50,
   "metadata": {},
   "outputs": [],
   "source": [
    "## generate similarity matrix\n",
    "similarity_matrix = similarity_score(speaker_master_list, speaker_list)"
   ]
  },
  {
   "cell_type": "code",
   "execution_count": 52,
   "metadata": {},
   "outputs": [],
   "source": [
    "similarity_matrix.to_csv(\"similarity_matrix.csv\")\n",
    "similarity_matrix"
   ]
  }
 ],
 "metadata": {
  "kernelspec": {
   "display_name": "Python 3",
   "language": "python",
   "name": "python3"
  },
  "language_info": {
   "codemirror_mode": {
    "name": "ipython",
    "version": 3
   },
   "file_extension": ".py",
   "mimetype": "text/x-python",
   "name": "python",
   "nbconvert_exporter": "python",
   "pygments_lexer": "ipython3",
   "version": "3.7.4"
  }
 },
 "nbformat": 4,
 "nbformat_minor": 2
}
